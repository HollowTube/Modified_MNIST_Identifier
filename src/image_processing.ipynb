{
 "cells": [
  {
   "cell_type": "code",
   "execution_count": 1,
   "metadata": {
    "collapsed": true
   },
   "outputs": [],
   "source": [
    "import numpy as np  # linear algebra\n",
    "import cv2\n",
    "\n",
    "import pandas as pd\n",
    "\n",
    "train_images = pd.read_pickle('data/train_images.pkl')\n",
    "train_labels = pd.read_csv('data/train_labels.csv')\n",
    "\n",
    "img_rows = train_images.shape[1]\n",
    "img_cols = train_images.shape[2]\n"
   ]
  },
  {
   "cell_type": "code",
   "execution_count": 2,
   "metadata": {},
   "outputs": [
    {
     "data": {
      "text/plain": [
       "<matplotlib.image.AxesImage at 0x2b980bd97b8>"
      ]
     },
     "execution_count": 2,
     "metadata": {},
     "output_type": "execute_result"
    },
    {
     "data": {
      "image/png": "[encoded data removed]",
      "text/plain": [
       "<Figure size 432x288 with 1 Axes>"
      ]
     },
     "metadata": {},
     "output_type": "display_data"
    }
   ],
   "source": [
    "import matplotlib.pyplot as plt\n",
    "%matplotlib inline \n",
    "#Let's show image with id 16\n",
    "img_idx = 3\n",
    "\n",
    "plt.title('Label: {}'.format(train_labels.iloc[img_idx]['Category']))\n",
    "plt.imshow(train_images[img_idx], cmap='gray')\n"
   ]
  },
  {
   "cell_type": "code",
   "execution_count": 43,
   "metadata": {},
   "outputs": [],
   "source": [
    "class Preprocessor:\n",
    "    \n",
    "    @staticmethod\n",
    "    def getBodyContours(bw_img):\n",
    "        intImg = np.uint8(bw_img)\n",
    "        contours = cv2.findContours(intImg, cv2.RETR_TREE, cv2.CHAIN_APPROX_SIMPLE)[1]\n",
    "        contours = np.array(contours)\n",
    "        boxes = []\n",
    "        for cnt in contours:\n",
    "            if cv2.contourArea(cnt) > 20:\n",
    "                x, y, w, h = cv2.boundingRect(cnt)\n",
    "                box = [x, y, x + w, y + h, w, h]\n",
    "                box = np.int0(box)\n",
    "                boxes.append(box)\n",
    "        boxes = np.array(boxes)\n",
    "        return boxes\n",
    "\n",
    "    @staticmethod\n",
    "    def cropROI(ROI, img):\n",
    "        imgSet = img.copy()\n",
    "        return imgSet[ROI[1]:ROI[3], ROI[0]:ROI[2]]\n",
    "    \n",
    "    @staticmethod\n",
    "    def pad_and_center(img):\n",
    "        width = max(img.shape[0],img.shape[1])\n",
    "        margin = 8\n",
    "        \n",
    "        pad = np.zeros((width+margin, width+margin))\n",
    "        x_offset = (width+margin - img.shape[0])//2\n",
    "        y_offset = (width+margin - img.shape[1])//2\n",
    "        pad[x_offset:img.shape[0]+x_offset,y_offset:img.shape[1]+y_offset]=img\n",
    "        pad = cv2.resize(pad,(28,28))\n",
    "        \n",
    "        return pad\n",
    "    \n",
    "    @staticmethod\n",
    "    def preprocess(img):\n",
    "        img_bin = cv2.threshold(img, 200, 255, 0)[1]\n",
    "        boxes = Preprocessor.getBodyContours(img_bin)\n",
    "        biggestBox = sorted(boxes, key=lambda x: max(x[4], x[5]))[-1]\n",
    "        bin_img_show = Preprocessor.cropROI(biggestBox, img_bin)\n",
    "        final_img = Preprocessor.pad_and_center(bin_img_show)\n",
    "        return final_img"
   ]
  },
  {
   "cell_type": "code",
   "execution_count": 38,
   "metadata": {
    "collapsed": true
   },
   "outputs": [
    {
     "name": "stdout",
     "output_type": "stream",
     "text": [
      "[[  0.           0.           0.           0.           0.\n    0.           0.           0.           0.           0.\n    0.           0.           0.           0.           0.\n    0.           0.           0.           0.           0.\n    0.           0.           0.           0.           0.\n    0.           0.           0.        ]\n [  0.           0.           0.           0.           0.\n    0.           0.           0.           0.           0.\n    0.           0.           0.           0.           0.\n    0.           0.           0.           0.           0.\n    0.           0.           0.           0.           0.\n    0.           0.           0.        ]\n [  0.           0.           0.           0.           0.\n    0.           0.           0.           0.           0.\n    0.           0.           0.           0.           0.\n    0.           0.           0.           0.           0.\n    0.           0.           0.           0.           0.\n    0.           0.           0.        ]\n [  0.           0.           0.           0.           0.\n    0.           0.           0.           0.           0.\n    0.           0.           0.           0.           0.\n    0.           0.           0.           0.           0.\n    0.           0.           0.           0.           0.\n    0.           0.           0.        ]\n [  0.           0.           0.           0.           0.\n    0.           0.           0.           0.           0.\n    0.           0.           0.           0.           0.\n    0.           0.           0.           0.           0.\n    0.           0.           0.           0.           0.\n    0.           0.           0.        ]\n [  0.           0.           0.           0.           0.\n    0.           0.           0.           0.           0.\n    0.           0.           0.           0.           0.\n    0.           0.           0.           0.           0.\n    0.           0.           0.           0.           0.\n    0.           0.           0.        ]\n [  0.           0.           0.           0.           0.\n  186.04591837  16.91326531   0.           0.           0.\n    0.           0.           0.           0.           0.\n    0.           0.           0.           0.           0.\n    0.           0.           0.           0.           0.\n    0.           0.           0.        ]\n [  0.           0.           0.           9.10714286 170.43367347\n  255.         255.         255.         255.         255.\n  255.         102.78061224   3.90306122   0.           0.\n    0.           0.           0.           0.           0.\n    0.           0.           0.           0.           0.\n    0.           0.           0.        ]\n [  0.           0.           0.         127.5        255.\n  255.         255.         255.         255.         255.\n  255.         255.          97.57653061   3.90306122   0.\n    0.           0.           0.           0.           0.\n    0.           0.           0.           0.           0.\n    0.           0.           0.        ]\n [  0.           0.           0.         127.5        255.\n  255.         255.         255.         255.         255.\n  255.         255.         255.         102.78061224   0.\n    0.           0.           0.           0.           0.\n    0.           0.           0.           0.           0.\n    0.           0.           0.        ]\n [  0.           0.           0.         127.5        255.\n  255.         255.         255.         255.         255.\n  255.         255.         255.         255.         118.39285714\n    0.           0.           0.           0.           0.\n    0.           0.           0.           0.           0.\n    0.           0.           0.        ]\n [  0.           0.           0.          45.53571429 196.45408163\n  255.         255.         255.         255.         255.\n  255.         255.         255.         255.         248.49489796\n  128.80102041   0.           0.           0.           0.\n    0.           0.           0.           0.           0.\n    0.           0.           0.        ]\n [  0.           0.           0.           0.          35.12755102\n   54.64285714  54.64285714  54.64285714  97.57653061 255.\n  255.         255.         255.         255.         255.\n  200.35714286   0.           0.           0.           0.\n    0.           0.           0.           0.           0.\n    0.           0.           0.        ]\n [  0.           0.           0.           0.           0.\n    0.           0.           0.          54.64285714 255.\n  255.         255.         255.         255.         238.08673469\n   14.31122449   0.           0.           0.           0.\n    0.           0.           0.           0.           0.\n    0.           0.           0.        ]\n [  0.           0.           0.           0.           0.\n    0.          16.91326531  18.21428571  18.21428571 102.78061224\n  255.         255.         255.         255.         236.78571429\n    0.           0.           0.           0.          14.31122449\n   18.21428571  18.21428571  18.21428571  11.70918367   0.\n    0.           0.           0.        ]\n [  0.           0.           0.           0.           0.\n    0.         236.78571429 255.         255.         255.\n  255.         255.         255.         255.         240.68877551\n   54.64285714  54.64285714  54.64285714  54.64285714 212.06632653\n  255.         255.         255.         163.92857143   0.\n    0.           0.           0.        ]\n [  0.           0.           0.           0.           0.\n    0.         236.78571429 255.         255.         255.\n  255.         255.         255.         255.         255.\n  255.         255.         255.         255.         255.\n  255.         255.         255.         196.45408163  45.53571429\n    0.           0.           0.        ]\n [  0.           0.           0.           0.           0.\n    0.         236.78571429 255.         255.         255.\n  255.         255.         255.         255.         255.\n  255.         255.         255.         255.         255.\n  255.         255.         255.         255.         127.5\n    0.           0.           0.        ]\n [  0.           0.           0.           0.           0.\n    0.         236.78571429 255.         255.         255.\n  255.         255.         255.         255.         255.\n  255.         255.         255.         255.         255.\n  255.         255.         255.         255.         127.5\n    0.           0.           0.        ]\n [  0.           0.           0.           0.           0.\n    0.          50.73979592 255.         255.         255.\n  255.         255.         255.         255.         255.\n  255.         255.         255.         255.         255.\n  255.         255.         255.         183.44387755  27.32142857\n    0.           0.           0.        ]\n [  0.           0.           0.           0.           0.\n    0.           0.          18.21428571  18.21428571  18.21428571\n   18.21428571 170.43367347 255.         255.         255.\n  255.         255.         255.         255.         255.\n  255.         255.         204.26020408  11.70918367   0.\n    0.           0.           0.        ]\n [  0.           0.           0.           0.           0.\n    0.           0.           0.           0.           0.\n    0.           0.           0.           0.         236.78571429\n  186.04591837   0.           0.           0.           0.\n    0.           0.           0.           0.           0.\n    0.           0.           0.        ]\n [  0.           0.           0.           0.           0.\n    0.           0.           0.           0.           0.\n    0.           0.           0.           0.           0.\n    0.           0.           0.           0.           0.\n    0.           0.           0.           0.           0.\n    0.           0.           0.        ]\n [  0.           0.           0.           0.           0.\n    0.           0.           0.           0.           0.\n    0.           0.           0.           0.           0.\n    0.           0.           0.           0.           0.\n    0.           0.           0.           0.           0.\n    0.           0.           0.        ]\n [  0.           0.           0.           0.           0.\n    0.           0.           0.           0.           0.\n    0.           0.           0.           0.           0.\n    0.           0.           0.           0.           0.\n    0.           0.           0.           0.           0.\n    0.           0.           0.        ]\n [  0.           0.           0.           0.           0.\n    0.           0.           0.           0.           0.\n    0.           0.           0.           0.           0.\n    0.           0.           0.           0.           0.\n    0.           0.           0.           0.           0.\n    0.           0.           0.        ]\n [  0.           0.           0.           0.           0.\n    0.           0.           0.           0.           0.\n    0.           0.           0.           0.           0.\n    0.           0.           0.           0.           0.\n    0.           0.           0.           0.           0.\n    0.           0.           0.        ]\n [  0.           0.           0.           0.           0.\n    0.           0.           0.           0.           0.\n    0.           0.           0.           0.           0.\n    0.           0.           0.           0.           0.\n    0.           0.           0.           0.           0.\n    0.           0.           0.        ]]\n"
     ]
    }
   ],
   "source": [
    "img_idx = 4\n",
    "img = train_images[img_idx].copy()\n",
    "img_bin = cv2.threshold(img, 200, 255, 0)[1]\n",
    "boxes = Preprocessor.getBodyContours(img_bin)\n",
    "topbox = sorted(boxes, key=lambda x: max(x[4], x[5]))[-1]\n",
    "\n",
    "x, y, x2, y2, w, h = map(int, topbox)\n",
    "img_show = cv2.rectangle(img.copy(), (x, y), (x2, y2), (0, 255, 0), 1)\n",
    "bin_img_show = Preprocessor.cropROI(topbox,img_bin)\n",
    "final_img = Preprocessor.pad_and_center(bin_img_show)\n",
    "print(final_img)"
   ]
  },
  {
   "cell_type": "code",
   "execution_count": 44,
   "metadata": {},
   "outputs": [
    {
     "data": {
      "text/plain": [
       "<matplotlib.image.AxesImage at 0x2b9824de978>"
      ]
     },
     "execution_count": 44,
     "metadata": {},
     "output_type": "execute_result"
    },
    {
     "data": {
      "image/png": "[encoded data removed]",
      "text/plain": [
       "<Figure size 432x288 with 1 Axes>"
      ]
     },
     "metadata": {},
     "output_type": "display_data"
    }
   ],
   "source": [
    "plt.imshow(final_img, cmap='gray')"
   ]
  },
  {
   "cell_type": "code",
   "execution_count": 57,
   "metadata": {},
   "outputs": [
    {
     "data": {
      "text/plain": [
       "<matplotlib.image.AxesImage at 0x2b9828a36d8>"
      ]
     },
     "execution_count": 57,
     "metadata": {},
     "output_type": "execute_result"
    },
    {
     "data": {
      "image/png": "[encoded data removed]",
      "text/plain": [
       "<Figure size 432x288 with 1 Axes>"
      ]
     },
     "metadata": {},
     "output_type": "display_data"
    }
   ],
   "source": [
    "test_img = train_images[4].copy()\n",
    "processed = Preprocessor.preprocess(test_img)\n",
    "plt.imshow(processed, cmap='gray')"
   ]
  },
  {
   "cell_type": "code",
   "execution_count": null,
   "metadata": {},
   "outputs": [],
   "source": []
  }
 ],
 "metadata": {
  "kernelspec": {
   "display_name": "Python 2",
   "language": "python",
   "name": "python2"
  },
  "language_info": {
   "codemirror_mode": {
    "name": "ipython",
    "version": 2
   },
   "file_extension": ".py",
   "mimetype": "text/x-python",
   "name": "python",
   "nbconvert_exporter": "python",
   "pygments_lexer": "ipython2",
   "version": "2.7.6"
  }
 },
 "nbformat": 4,
 "nbformat_minor": 0
}
